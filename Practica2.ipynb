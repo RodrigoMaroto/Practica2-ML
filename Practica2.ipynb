{
 "cells": [
  {
   "attachments": {},
   "cell_type": "markdown",
   "metadata": {},
   "source": [
    "# Práctica 2: Determinación de Tipos de Estrellas\n",
    "Autores: Rodrigo Maroto Caño y Rodrigo Toldos Frutos  \n",
    "Correos electrónicos: 100454455@alumnos.uc3m.es - 100454470@alumnos.uc3m.es   \n",
    "Usuarios en GitHub: @RodrigoMaroto (owner) y @100454470   \n",
    "Link del repositorio: https://github.com/RodrigoMaroto/Practica2-ML/"
   ]
  },
  {
   "cell_type": "code",
   "execution_count": null,
   "metadata": {},
   "outputs": [],
   "source": []
  }
 ],
 "metadata": {
  "colab": {
   "provenance": []
  },
  "kernelspec": {
   "display_name": "Python 3 (ipykernel)",
   "language": "python",
   "name": "python3"
  },
  "language_info": {
   "codemirror_mode": {
    "name": "ipython",
    "version": 3
   },
   "file_extension": ".py",
   "mimetype": "text/x-python",
   "name": "python",
   "nbconvert_exporter": "python",
   "pygments_lexer": "ipython3",
   "version": "3.11.9"
  }
 },
 "nbformat": 4,
 "nbformat_minor": 4
}
